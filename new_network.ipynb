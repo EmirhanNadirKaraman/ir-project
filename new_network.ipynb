{
 "cells": [
  {
   "cell_type": "code",
   "execution_count": 1,
   "metadata": {},
   "outputs": [],
   "source": [
    "import json\n",
    "import math \n",
    "import numpy as np\n",
    "from matplotlib import pyplot as plt\n",
    "\n",
    "from sklearn.model_selection import train_test_split\n",
    "from sklearn.ensemble import RandomForestRegressor\n",
    "from sklearn.metrics import mean_squared_error\n",
    "from word2vec import get_vector\n",
    "\n",
    "from eden_ai import get_labels"
   ]
  },
  {
   "cell_type": "code",
   "execution_count": 2,
   "metadata": {},
   "outputs": [],
   "source": [
    "def plot_results(results, no_of_bins: int) -> None:\n",
    "    views = []\n",
    "    channel_sub_counts = []\n",
    "\n",
    "    for video in results.values():\n",
    "        view_count = video[\"video\"][\"view_count\"]\n",
    "        channel_sub_count = video[\"channel\"][\"subscriber_count\"]\n",
    "\n",
    "        views.append(view_count)\n",
    "        channel_sub_counts.append(channel_sub_count)\n",
    "\n",
    "    normalized_views = [\n",
    "        math.tanh(math.log(view) / math.log(sub_count)) * no_of_bins\n",
    "        for view, sub_count in zip(views, channel_sub_counts)\n",
    "    ]\n",
    "\n",
    "    plt.hist(normalized_views, bins=no_of_bins)\n",
    "    plt.xlabel(\"Score\")\n",
    "    plt.ylabel(\"# of Videos\")\n",
    "    plt.title(f\"Video Score Distribution\")\n",
    "    plt.show()"
   ]
  },
  {
   "cell_type": "code",
   "execution_count": 3,
   "metadata": {},
   "outputs": [
    {
     "data": {
      "image/png": "[encoded data removed]",
      "text/plain": [
       "<Figure size 640x480 with 1 Axes>"
      ]
     },
     "metadata": {},
     "output_type": "display_data"
    }
   ],
   "source": [
    "with open(\"videos.json\", \"r\") as f:\n",
    "    results = json.loads(f.read())\n",
    "\n",
    "plot_results(results, no_of_bins=20)"
   ]
  },
  {
   "cell_type": "code",
   "execution_count": 4,
   "metadata": {},
   "outputs": [],
   "source": [
    "no_of_bins = 20\n",
    "\n",
    "videos = {}\n",
    "with open('videos.json', 'r') as f: \n",
    "    videos = json.load(f)\n",
    "\n",
    "x = []\n",
    "y = []\n",
    "\n",
    "for video in videos.values():\n",
    "    description = video[\"video\"][\"description\"].split() or []\n",
    "    tags = video[\"video\"].get('tags', []) or []\n",
    "    labels = [inner[\"label\"] for inner in video[\"video\"][\"thumbnail_objects\"]] or []\n",
    "\n",
    "    words = description + tags + labels\n",
    "    x.append(get_vector(words))\n",
    "\n",
    "    view = video['video']['view_count']\n",
    "    sub_count = video['channel']['subscriber_count']\n",
    "\n",
    "    y.append(int(math.tanh(math.log(view) / math.log(sub_count)) * no_of_bins))"
   ]
  },
  {
   "cell_type": "code",
   "execution_count": 5,
   "metadata": {},
   "outputs": [],
   "source": [
    "x_train, x_test, y_train, y_test = train_test_split(x, y, test_size=0.2, random_state=42)"
   ]
  },
  {
   "cell_type": "code",
   "execution_count": 6,
   "metadata": {},
   "outputs": [
    {
     "data": {
      "text/plain": [
       "RandomForestRegressor()"
      ]
     },
     "execution_count": 6,
     "metadata": {},
     "output_type": "execute_result"
    }
   ],
   "source": [
    "# Create an instance of the Random Forest Regression model\n",
    "model = RandomForestRegressor()\n",
    "\n",
    "# Train the model on the training data\n",
    "model.fit(x_train, y_train)"
   ]
  },
  {
   "cell_type": "code",
   "execution_count": 7,
   "metadata": {},
   "outputs": [
    {
     "name": "stdout",
     "output_type": "stream",
     "text": [
      "Mean Squared Error: 0.6863988764044943\n",
      "0 12.92 11\n",
      "1 12.78 13\n",
      "2 13.49 13\n",
      "3 13.01 13\n",
      "4 13.56 14\n",
      "5 13.05 14\n",
      "6 12.97 13\n",
      "7 12.81 14\n",
      "8 13.11 14\n",
      "9 13.33 12\n",
      "10 13.42 13\n",
      "11 13.31 13\n",
      "12 13.38 14\n",
      "13 13.66 14\n",
      "14 12.78 14\n",
      "15 13.17 13\n",
      "16 13.04 12\n",
      "17 12.92 13\n",
      "18 13.49 14\n",
      "19 13.49 14\n",
      "20 13.34 13\n",
      "21 13.18 14\n",
      "22 12.68 12\n",
      "23 13.11 12\n",
      "24 13.33 13\n",
      "25 12.47 12\n",
      "26 13.02 13\n",
      "27 13.23 13\n",
      "28 13.33 12\n",
      "29 13.53 14\n",
      "30 13.11 14\n",
      "31 13.68 14\n",
      "32 12.82 14\n",
      "33 12.9 12\n",
      "34 12.85 12\n",
      "35 13.04 13\n",
      "36 13.34 14\n",
      "37 13.3 14\n",
      "38 12.8 14\n",
      "39 13.0 12\n",
      "40 12.39 13\n",
      "41 13.0 13\n",
      "42 12.75 13\n",
      "43 13.11 13\n",
      "44 13.1 14\n",
      "45 13.58 14\n",
      "46 13.64 14\n",
      "47 13.28 14\n",
      "48 12.68 14\n",
      "49 12.8 13\n",
      "50 13.24 13\n",
      "51 13.25 15\n",
      "52 13.39 13\n",
      "53 12.57 13\n",
      "54 13.14 13\n",
      "55 13.42 14\n",
      "56 12.79 13\n",
      "57 13.14 12\n",
      "58 13.08 14\n",
      "59 13.31 14\n",
      "60 12.77 13\n",
      "61 12.94 12\n",
      "62 13.24 12\n",
      "63 13.5 13\n",
      "64 13.14 13\n",
      "65 12.4 13\n",
      "66 13.18 13\n",
      "67 13.41 13\n",
      "68 12.82 13\n",
      "69 13.03 14\n",
      "70 12.9 14\n",
      "71 12.85 13\n",
      "72 13.3 14\n",
      "73 13.08 14\n",
      "74 12.72 14\n",
      "75 13.33 13\n",
      "76 13.16 14\n",
      "77 13.08 13\n",
      "78 13.06 12\n",
      "79 12.76 14\n",
      "80 13.03 10\n",
      "81 12.86 12\n",
      "82 13.69 13\n",
      "83 13.28 12\n",
      "84 12.92 13\n",
      "85 13.24 14\n",
      "86 12.7 12\n",
      "87 12.84 13\n",
      "88 13.19 14\n"
     ]
    }
   ],
   "source": [
    "# Make predictions on the test data\n",
    "y_pred = model.predict(x_test)\n",
    "\n",
    "# Calculate the mean squared error\n",
    "mse = mean_squared_error(y_test, y_pred)\n",
    "print('Mean Squared Error:', mse)\n",
    "\n",
    "for index in range(len(x_test)):\n",
    "    print(index, y_pred[index], y_test[index])"
   ]
  },
  {
   "cell_type": "code",
   "execution_count": 8,
   "metadata": {},
   "outputs": [],
   "source": [
    "def predict(tags, description, thumbnail_url):\n",
    "    labels = [inner['label'] for inner in get_labels(image_url=thumbnail_url)] or []\n",
    "\n",
    "    words = description + tags + labels\n",
    "    words_vector = get_vector(words)\n",
    "\n",
    "    return model.predict([words_vector])[0]"
   ]
  },
  {
   "cell_type": "code",
   "execution_count": 9,
   "metadata": {},
   "outputs": [],
   "source": [
    "def convert_to_view_count(pred, sub_count):\n",
    "    result = sub_count ** np.arctanh(pred / 20)\n",
    "    return result"
   ]
  },
  {
   "cell_type": "code",
   "execution_count": 10,
   "metadata": {},
   "outputs": [
    {
     "name": "stdout",
     "output_type": "stream",
     "text": [
      "[12, 13, 13, 13, 13, 13, 13, 13, 13, 13, 13, 13, 13, 13, 13, 13, 14, 13, 14, 14, 11, 13, 10, 13, 14, 14, 13, 13, 13, 13, 13, 14, 14, 14, 14, 14, 15, 14, 14, 14, 14, 14, 14, 12, 12, 13, 12, 13, 12, 12, 14, 12, 12, 13, 12, 12, 12, 12, 12, 14, 13, 12, 12, 12, 13, 12, 13, 12, 13, 12, 13, 13, 13, 14, 13, 14, 14, 14, 13, 14, 14, 14, 14, 14, 14, 13, 13, 14, 14, 14, 14, 13, 13, 13, 14, 13, 13, 13, 14, 14, 14, 13, 14, 14, 14, 14, 14, 13, 13, 14, 14, 14, 14, 14, 14, 14, 14, 14, 14, 14, 14, 14, 14, 14, 15, 14, 14, 14, 14, 15, 14, 15, 14, 14, 10, 11, 11, 11, 11, 13, 12, 12, 11, 13, 12, 12, 12, 12, 12, 14, 13, 13, 14, 14, 14, 14, 14, 14, 14, 14, 14, 14, 14, 14, 14, 15, 14, 14, 14, 14, 12, 13, 12, 13, 12, 14, 12, 14, 13, 14, 12, 14, 12, 13, 13, 14, 12, 13, 13, 14, 13, 14, 13, 13, 13, 14, 13, 13, 13, 14, 11, 12, 13, 13, 12, 13, 13, 13, 13, 13, 12, 13, 13, 13, 13, 13, 14, 13, 13, 13, 13, 13, 14, 14, 14, 13, 13, 13, 13, 13, 13, 13, 14, 13, 13, 13, 13, 12, 13, 13, 13, 13, 13, 14, 12, 14, 14, 13, 14, 14, 14, 14, 12, 12, 13, 13, 14, 13, 12, 13, 13, 13, 13, 13, 12, 13, 12, 14, 13, 14, 12, 14, 14, 14, 12, 13, 13, 13, 13, 13, 13, 14, 12, 14, 13, 14, 14, 11, 12, 13, 14, 13, 12, 12, 13, 12, 14, 12, 13, 13, 14, 13, 13, 12, 13, 13, 14, 14, 14, 14, 13, 12, 13, 12, 14, 12, 13, 12, 12, 13, 13, 13, 13, 14, 13, 13, 13, 13, 14, 14, 13, 12, 12, 12, 13, 14, 13, 12, 14, 13, 11, 13, 13, 13, 11, 13, 13, 11, 13, 13, 13, 13, 13, 12, 14, 12, 13, 13, 14, 14, 13, 12, 13, 13, 12, 12, 13, 13, 14, 12, 12, 12, 12, 12, 13, 13, 14, 11, 12, 12, 12, 14, 13, 12, 14, 13, 13, 13, 13, 13, 15, 13, 13, 13, 12, 13, 13, 12, 12, 12, 13, 14, 13, 13, 13, 13, 13, 14, 13, 13, 12, 13, 12, 13, 14, 14, 13, 12, 14, 14, 10, 10, 13, 13, 12, 14, 14, 13, 13, 13, 12, 14, 12, 12, 11, 14, 12, 14, 11, 14, 13, 14]\n",
      "13.15 130816.94542566093\n"
     ]
    }
   ],
   "source": [
    "tags = [\"duzce\", \"duzce earthquake\", \"duzce news\", \"duzce turkey\", \"earthquake\", \n",
    "               \"earthquake in turkey\", \"erdogan\", \"gdnpfpnewsworld\", \"golkaya\", \"golkaya earthquake\", \n",
    "               \"haber\", \"istanbul\", \"istanbul earthquake\", \"istanbul news\", \"istanbul news anchor\", \n",
    "               \"tgrt\", \"turkey\", \"turkey 2022\", \"turkey earthquake\", \"turkey earthquake live\", \"turkey earthquake video\", \n",
    "               \"turkey latest\", \"turkey latest news\", \"turkey news\", \"turkey quake\", \"turkish anchor\", \"turkish news reporter\", \n",
    "               \"turkish reporter\", \"world\"]\n",
    "\n",
    "description = \"\"\"A magnitude-5.9 earthquake hit a town in northwestern Turkey early Wednesday, causing damage to some buildings and widespread panic. \n",
    "Subscribe to Guardian News on YouTube ► http://bit.ly/guardianwiressub\n",
    "\n",
    "At least 68 people were injured, mostly while trying to flee homes. Footage released by Turkish private broadcaster TGRT shows how night-time anchorman Ersel Hoskara coninued presenting as the quake was felt in Istanbul while the graphic underneath him read 'Breaking news: moment of the earthquake live on air'. The earthquake was centered in the town of Golkaya, in Duzce province, some 200 kilometers (125 miles) east of Istanbul, the Disaster and Emergency Management Presidency said. \n",
    "\n",
    "The Guardian publishes independent journalism, made possible by supporters. Contribute to The Guardian today ► https://bit.ly/3uhA7zg\n",
    "\n",
    "Sign up to the Guardian's free new daily newsletter, First Edition ► http://theguardian.com/first-edition\n",
    "\n",
    "Website ► https://www.theguardian.com\n",
    "Facebook ►https://www.facebook.com/theguardian\n",
    "Twitter ► https://twitter.com/guardian\n",
    "Instagram ► https://instagram.com/guardian\n",
    "\n",
    "The Guardian on YouTube:\n",
    "The Guardian ► https://bit.ly/guardiannewssubs\n",
    "Guardian Australia ► https://bit.ly/guardianaussubs\n",
    "Guardian Football ► https://bit.ly/gdnfootballsubs\n",
    "Guardian Sport ► https://bit.ly/gdnsportsubs\n",
    "Guardian Live ► https://bit.ly/guardianlivesubs\n",
    "\n",
    "#Istanbul #News #Earthquake #Istanbul #News\"\"\".split()\n",
    "\n",
    "thumbnail_url = \"https://i3.ytimg.com/vi/SP9_USUZn68/maxresdefault.jpg\"\n",
    "\n",
    "pred = predict(tags, description, thumbnail_url)\n",
    "print(y)\n",
    "\n",
    "pred_view_count = convert_to_view_count(pred, sub_count=3_090_000)\n",
    "print(pred, pred_view_count)"
   ]
  },
  {
   "cell_type": "code",
   "execution_count": null,
   "metadata": {},
   "outputs": [],
   "source": []
  }
 ],
 "metadata": {
  "kernelspec": {
   "display_name": "base",
   "language": "python",
   "name": "python3"
  },
  "language_info": {
   "codemirror_mode": {
    "name": "ipython",
    "version": 3
   },
   "file_extension": ".py",
   "mimetype": "text/x-python",
   "name": "python",
   "nbconvert_exporter": "python",
   "pygments_lexer": "ipython3",
   "version": "3.9.13"
  },
  "orig_nbformat": 4
 },
 "nbformat": 4,
 "nbformat_minor": 2
}
