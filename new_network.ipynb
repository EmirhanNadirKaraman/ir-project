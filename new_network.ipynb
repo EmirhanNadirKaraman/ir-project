{
 "cells": [
  {
   "cell_type": "code",
   "execution_count": 79,
   "metadata": {},
   "outputs": [],
   "source": [
    "import json\n",
    "import math \n",
    "import os\n",
    "import numpy as np\n",
    "\n",
    "from sklearn.model_selection import train_test_split\n",
    "from sklearn.ensemble import RandomForestRegressor\n",
    "from sklearn.metrics import mean_squared_error\n",
    "from word2vec import get_vector\n",
    "\n",
    "from eden_ai import get_labels"
   ]
  },
  {
   "cell_type": "code",
   "execution_count": 80,
   "metadata": {},
   "outputs": [],
   "source": [
    "no_of_bins = 20\n",
    "\n",
    "videos = {}\n",
    "with open('videos.json', 'r') as f: \n",
    "    videos = json.load(f)\n",
    "\n",
    "x = []\n",
    "y = []\n",
    "\n",
    "for video in videos.values():\n",
    "    description = video[\"video\"][\"description\"].split() or []\n",
    "    tags = video[\"video\"].get('tags', []) or []\n",
    "    labels = [inner[\"label\"] for inner in video[\"video\"][\"thumbnail_objects\"]] or []\n",
    "\n",
    "    words = description + tags + labels\n",
    "    x.append(get_vector(words))\n",
    "\n",
    "    view = video['video']['view_count']\n",
    "    sub_count = video['channel']['subscriber_count']\n",
    "\n",
    "    y.append(int(math.tanh(math.log(view) / math.log(sub_count)) * no_of_bins))"
   ]
  },
  {
   "cell_type": "code",
   "execution_count": 81,
   "metadata": {},
   "outputs": [],
   "source": [
    "x_train, x_test, y_train, y_test = train_test_split(x, y, test_size=0.2, random_state=42)"
   ]
  },
  {
   "cell_type": "code",
   "execution_count": 82,
   "metadata": {},
   "outputs": [
    {
     "data": {
      "text/plain": [
       "RandomForestRegressor()"
      ]
     },
     "execution_count": 82,
     "metadata": {},
     "output_type": "execute_result"
    }
   ],
   "source": [
    "# Create an instance of the Random Forest Regression model\n",
    "model = RandomForestRegressor()\n",
    "\n",
    "# Train the model on the training data\n",
    "model.fit(x_train, y_train)"
   ]
  },
  {
   "cell_type": "code",
   "execution_count": 83,
   "metadata": {},
   "outputs": [
    {
     "name": "stdout",
     "output_type": "stream",
     "text": [
      "Mean Squared Error: 0.6769685393258427\n",
      "0 13.03 11\n",
      "1 12.69 13\n",
      "2 13.48 13\n",
      "3 12.94 13\n",
      "4 13.58 14\n",
      "5 12.98 14\n",
      "6 13.05 13\n",
      "7 12.73 14\n",
      "8 12.96 14\n",
      "9 13.04 12\n",
      "10 13.13 13\n",
      "11 13.4 13\n",
      "12 13.34 14\n",
      "13 13.6 14\n",
      "14 12.86 14\n",
      "15 13.16 13\n",
      "16 12.97 12\n",
      "17 13.19 13\n",
      "18 13.63 14\n",
      "19 13.62 14\n",
      "20 13.27 13\n",
      "21 13.06 14\n",
      "22 12.65 12\n",
      "23 13.11 12\n",
      "24 13.38 13\n",
      "25 12.32 12\n",
      "26 12.92 13\n",
      "27 13.12 13\n",
      "28 13.3 12\n",
      "29 13.42 14\n",
      "30 12.89 14\n",
      "31 13.7 14\n",
      "32 13.05 14\n",
      "33 12.94 12\n",
      "34 12.75 12\n",
      "35 13.27 13\n",
      "36 13.37 14\n",
      "37 13.25 14\n",
      "38 12.99 14\n",
      "39 13.16 12\n",
      "40 12.63 13\n",
      "41 13.08 13\n",
      "42 12.83 13\n",
      "43 13.09 13\n",
      "44 13.01 14\n",
      "45 13.67 14\n",
      "46 13.5 14\n",
      "47 13.15 14\n",
      "48 12.75 14\n",
      "49 12.87 13\n",
      "50 13.16 13\n",
      "51 13.14 15\n",
      "52 13.36 13\n",
      "53 12.48 13\n",
      "54 13.23 13\n",
      "55 13.43 14\n",
      "56 12.73 13\n",
      "57 12.91 12\n",
      "58 13.05 14\n",
      "59 13.27 14\n",
      "60 12.89 13\n",
      "61 12.57 12\n",
      "62 13.34 12\n",
      "63 13.64 13\n",
      "64 13.23 13\n",
      "65 12.48 13\n",
      "66 13.21 13\n",
      "67 13.18 13\n",
      "68 12.71 13\n",
      "69 12.84 14\n",
      "70 13.16 14\n",
      "71 12.89 13\n",
      "72 13.41 14\n",
      "73 13.12 14\n",
      "74 12.61 14\n",
      "75 12.96 13\n",
      "76 13.26 14\n",
      "77 13.08 13\n",
      "78 12.92 12\n",
      "79 12.73 14\n",
      "80 12.98 10\n",
      "81 12.86 12\n",
      "82 13.75 13\n",
      "83 13.33 12\n",
      "84 12.79 13\n",
      "85 13.23 14\n",
      "86 12.81 12\n",
      "87 12.9 13\n",
      "88 13.2 14\n"
     ]
    }
   ],
   "source": [
    "# Make predictions on the test data\n",
    "y_pred = model.predict(x_test)\n",
    "\n",
    "# Calculate the mean squared error\n",
    "mse = mean_squared_error(y_test, y_pred)\n",
    "print('Mean Squared Error:', mse)\n",
    "\n",
    "for index in range(len(x_test)):\n",
    "    print(index, y_pred[index], y_test[index])"
   ]
  },
  {
   "cell_type": "code",
   "execution_count": 84,
   "metadata": {},
   "outputs": [],
   "source": [
    "def predict(tags, description, thumbnail_url):\n",
    "    labels = [inner['label'] for inner in get_labels(image_url=thumbnail_url)] or []\n",
    "\n",
    "    words = description + tags + labels\n",
    "    words_vector = get_vector(words)\n",
    "\n",
    "    return model.predict([words_vector])[0]"
   ]
  },
  {
   "cell_type": "code",
   "execution_count": 85,
   "metadata": {},
   "outputs": [
    {
     "name": "stdout",
     "output_type": "stream",
     "text": [
      "13.13\n"
     ]
    }
   ],
   "source": [
    "tags = [\"duzce\", \"duzce earthquake\", \"duzce news\", \"duzce turkey\", \"earthquake\", \n",
    "               \"earthquake in turkey\", \"erdogan\", \"gdnpfpnewsworld\", \"golkaya\", \"golkaya earthquake\", \n",
    "               \"haber\", \"istanbul\", \"istanbul earthquake\", \"istanbul news\", \"istanbul news anchor\", \n",
    "               \"tgrt\", \"turkey\", \"turkey 2022\", \"turkey earthquake\", \"turkey earthquake live\", \"turkey earthquake video\", \n",
    "               \"turkey latest\", \"turkey latest news\", \"turkey news\", \"turkey quake\", \"turkish anchor\", \"turkish news reporter\", \n",
    "               \"turkish reporter\", \"world\"]\n",
    "\n",
    "description = \"\"\"A magnitude-5.9 earthquake hit a town in northwestern Turkey early Wednesday, causing damage to some buildings and widespread panic. \n",
    "Subscribe to Guardian News on YouTube ► http://bit.ly/guardianwiressub\n",
    "\n",
    "At least 68 people were injured, mostly while trying to flee homes. Footage released by Turkish private broadcaster TGRT shows how night-time anchorman Ersel Hoskara coninued presenting as the quake was felt in Istanbul while the graphic underneath him read 'Breaking news: moment of the earthquake live on air'. The earthquake was centered in the town of Golkaya, in Duzce province, some 200 kilometers (125 miles) east of Istanbul, the Disaster and Emergency Management Presidency said. \n",
    "\n",
    "The Guardian publishes independent journalism, made possible by supporters. Contribute to The Guardian today ► https://bit.ly/3uhA7zg\n",
    "\n",
    "Sign up to the Guardian's free new daily newsletter, First Edition ► http://theguardian.com/first-edition\n",
    "\n",
    "Website ► https://www.theguardian.com\n",
    "Facebook ►https://www.facebook.com/theguardian\n",
    "Twitter ► https://twitter.com/guardian\n",
    "Instagram ► https://instagram.com/guardian\n",
    "\n",
    "The Guardian on YouTube:\n",
    "The Guardian ► https://bit.ly/guardiannewssubs\n",
    "Guardian Australia ► https://bit.ly/guardianaussubs\n",
    "Guardian Football ► https://bit.ly/gdnfootballsubs\n",
    "Guardian Sport ► https://bit.ly/gdnsportsubs\n",
    "Guardian Live ► https://bit.ly/guardianlivesubs\n",
    "\n",
    "#Istanbul #News #Earthquake #Istanbul #News\"\"\".split()\n",
    "\n",
    "thumbnail_url = \"https://i3.ytimg.com/vi/SP9_USUZn68/maxresdefault.jpg\"\n",
    "\n",
    "y = predict(tags, description, thumbnail_url)\n",
    "print(y)"
   ]
  },
  {
   "cell_type": "code",
   "execution_count": null,
   "metadata": {},
   "outputs": [],
   "source": []
  }
 ],
 "metadata": {
  "kernelspec": {
   "display_name": "base",
   "language": "python",
   "name": "python3"
  },
  "language_info": {
   "codemirror_mode": {
    "name": "ipython",
    "version": 3
   },
   "file_extension": ".py",
   "mimetype": "text/x-python",
   "name": "python",
   "nbconvert_exporter": "python",
   "pygments_lexer": "ipython3",
   "version": "3.9.13"
  },
  "orig_nbformat": 4
 },
 "nbformat": 4,
 "nbformat_minor": 2
}
