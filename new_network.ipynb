{
 "cells": [
  {
   "cell_type": "code",
   "execution_count": 2,
   "metadata": {},
   "outputs": [],
   "source": [
    "import json\n",
    "import math \n",
    "\n",
    "import numpy as np\n",
    "\n",
    "from sklearn.model_selection import train_test_split\n",
    "from sklearn.ensemble import RandomForestRegressor\n",
    "from sklearn.metrics import mean_squared_error\n",
    "from word2vec import *\n"
   ]
  },
  {
   "cell_type": "code",
   "execution_count": null,
   "metadata": {},
   "outputs": [],
   "source": [
    "no_of_bins = 20\n",
    "\n",
    "videos = {}\n",
    "with open('videos.json', 'r') as f: \n",
    "    videos = json.load(f)\n",
    "\n",
    "x = []\n",
    "y = []\n",
    "\n",
    "for video in videos.values():\n",
    "    print(type(video), video)\n",
    "\n",
    "    description = video[\"video\"][\"description\"].split() or []\n",
    "    tags = video[\"video\"].get('tags', []) or []\n",
    "    labels = [inner[\"label\"] for inner in video[\"video\"][\"thumbnail_objects\"]] or []\n",
    "\n",
    "    words = description + tags + labels\n",
    "    x.append(get_vector(words))\n",
    "\n",
    "    view = video['video']['view_count']\n",
    "    sub_count = video['channel']['subscriber_count']\n",
    "\n",
    "    y.append(int(math.tanh(math.log(view) / math.log(sub_count)) * no_of_bins))"
   ]
  },
  {
   "cell_type": "code",
   "execution_count": 7,
   "metadata": {},
   "outputs": [],
   "source": [
    "x_train, x_test, y_train, y_test = train_test_split(x, y, test_size=0.2, random_state=42)"
   ]
  },
  {
   "cell_type": "code",
   "execution_count": 8,
   "metadata": {},
   "outputs": [
    {
     "data": {
      "text/plain": [
       "RandomForestRegressor()"
      ]
     },
     "execution_count": 8,
     "metadata": {},
     "output_type": "execute_result"
    }
   ],
   "source": [
    "# Create an instance of the Random Forest Regression model\n",
    "model = RandomForestRegressor()\n",
    "\n",
    "# Train the model on the training data\n",
    "model.fit(x_train, y_train)\n"
   ]
  },
  {
   "cell_type": "code",
   "execution_count": 17,
   "metadata": {},
   "outputs": [
    {
     "name": "stdout",
     "output_type": "stream",
     "text": [
      "Mean Squared Error: 0.7013685393258426\n",
      "13.35 15\n"
     ]
    }
   ],
   "source": [
    "# Make predictions on the test data\n",
    "y_pred = model.predict(x_test)\n",
    "\n",
    "# Calculate the mean squared error\n",
    "mse = mean_squared_error(y_test, y_pred)\n",
    "print('Mean Squared Error:', mse)\n",
    "\n",
    "for index in range(len(x_test)):\n",
    "    if y_test[index] >= 15:\n",
    "        print(y_pred[index], y_test[index])\n",
    "    # print(index, y_pred[index], y_test[index])"
   ]
  },
  {
   "cell_type": "code",
   "execution_count": null,
   "metadata": {},
   "outputs": [],
   "source": []
  }
 ],
 "metadata": {
  "kernelspec": {
   "display_name": "base",
   "language": "python",
   "name": "python3"
  },
  "language_info": {
   "codemirror_mode": {
    "name": "ipython",
    "version": 3
   },
   "file_extension": ".py",
   "mimetype": "text/x-python",
   "name": "python",
   "nbconvert_exporter": "python",
   "pygments_lexer": "ipython3",
   "version": "3.9.13"
  },
  "orig_nbformat": 4
 },
 "nbformat": 4,
 "nbformat_minor": 2
}
