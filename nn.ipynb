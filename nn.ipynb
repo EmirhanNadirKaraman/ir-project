{
 "cells": [
  {
   "cell_type": "code",
   "execution_count": 1,
   "metadata": {},
   "outputs": [
    {
     "name": "stdout",
     "output_type": "stream",
     "text": [
      "[ 0.00823212 -0.02258301  0.18835449 -0.02096558  0.05859375  0.14593506\n",
      "  0.05647278 -0.06518555 -0.0010376   0.09823608 -0.10144043 -0.05807495\n",
      "  0.01750183  0.06677246 -0.05514145  0.21749878  0.0425415   0.11706543\n",
      " -0.07525635 -0.16143799 -0.07948303  0.08641052 -0.08007812 -0.04397583\n",
      "  0.09094238 -0.1116333  -0.0869751   0.08421707  0.05261993  0.18902588\n",
      " -0.07250977 -0.04858398 -0.05285645  0.10989285  0.05374146  0.16374016\n",
      " -0.0958252  -0.02947998 -0.01983643  0.08789062  0.03167725  0.0506897\n",
      " -0.00165558 -0.00030518  0.01235962 -0.06356812 -0.09492493  0.11621094\n",
      " -0.08805847  0.03579521  0.09356689 -0.0736084   0.00970459 -0.05578613\n",
      "  0.04519653 -0.04690552  0.06347656 -0.02004242 -0.09918213 -0.06335449\n",
      "  0.05957031 -0.06030273  0.00965881 -0.10894775  0.06585693  0.00344849\n",
      "  0.02154541 -0.06469727 -0.06965637  0.02111816  0.15576172 -0.07128906\n",
      "  0.11413574 -0.08244324 -0.03811646 -0.00447083  0.0612793   0.06097412\n",
      "  0.16088867  0.10968018  0.00891113 -0.21972656  0.10632324  0.03100586\n",
      " -0.03076172 -0.04292107 -0.1265564   0.2368164   0.20446777  0.01043701\n",
      "  0.11834717 -0.16394043 -0.00754929 -0.05432129 -0.06298828 -0.11413574\n",
      "  0.02789307 -0.05157471 -0.03973389 -0.06292725 -0.02532959 -0.04998779\n",
      " -0.03067017 -0.08435059 -0.04406738 -0.03817749 -0.06533813 -0.05670166\n",
      "  0.02478027 -0.1550293  -0.02764893 -0.10565186 -0.07162476  0.04046631\n",
      "  0.00616455 -0.04885864  0.01165771  0.00579834  0.24389648  0.08795166\n",
      " -0.059021   -0.00134277 -0.29858398  0.09646606  0.11407471 -0.07015991\n",
      "  0.05252075 -0.10571289  0.03997803 -0.03416824 -0.0178833   0.01037598\n",
      " -0.16369629 -0.03271484 -0.08823395 -0.04626465  0.13903809  0.04312134\n",
      "  0.16339111  0.12260437 -0.00902748  0.02310181 -0.00854492 -0.02402496\n",
      " -0.05950928  0.02111816 -0.03875732 -0.06486511 -0.04431152 -0.14978027\n",
      "  0.17779541 -0.07330322 -0.08325195  0.140625    0.02130127 -0.13684082\n",
      "  0.00695801 -0.05909729 -0.11133575 -0.10339355 -0.07189941  0.12768555\n",
      "  0.21305275  0.06884766 -0.08984375 -0.02513123  0.21234131  0.01335907\n",
      " -0.02355957  0.14758301  0.0479126  -0.1103363   0.01101685 -0.02331543\n",
      " -0.03681946  0.06152344  0.02929688 -0.01507568 -0.02084351 -0.02813721\n",
      " -0.04449463  0.05010605 -0.05913544 -0.07391357  0.11298752  0.04647827\n",
      " -0.12251282  0.03613281  0.10546875  0.15917969 -0.0519371   0.07055664\n",
      " -0.07215118 -0.11778259 -0.00700378  0.07400513  0.02661133 -0.08459473\n",
      " -0.06481171 -0.03900146  0.09153748  0.12072754 -0.1817627   0.03964233\n",
      " -0.08618164  0.09368896 -0.06381226  0.00064087  0.08062744 -0.00866699\n",
      "  0.01721191  0.06854248  0.0536499   0.04681396 -0.18334961  0.13494873\n",
      "  0.07324219 -0.05291748 -0.06176758 -0.0295105   0.10900879  0.01321411\n",
      " -0.04698658 -0.04138184  0.16204834 -0.09094238  0.00437927  0.05583191\n",
      "  0.01306152  0.19494629 -0.07788086 -0.23431396  0.0536499  -0.05322266\n",
      "  0.00115967 -0.00308228 -0.13226318  0.20162964  0.08251953  0.12268066\n",
      " -0.01686096  0.03910828  0.1078186  -0.25378418  0.01025391  0.00275421\n",
      " -0.00067139  0.16342163  0.01293945 -0.02609253 -0.05407715 -0.05304718\n",
      "  0.04551697  0.00079346  0.04472351 -0.00515747  0.04873657  0.05212402\n",
      " -0.03253174 -0.07965088  0.09448242 -0.03967285 -0.17541504 -0.04647827\n",
      "  0.06152344  0.16462708 -0.08691406  0.04260254 -0.07373047 -0.01703835\n",
      "  0.06854248  0.134475    0.05126953  0.07720947  0.13354492  0.07806396\n",
      " -0.06628418 -0.12353516  0.01475525 -0.02813721  0.05993652  0.01611328\n",
      "  0.01525879  0.00141144 -0.14135742  0.04649353 -0.02575684 -0.0112915\n",
      " -0.12988281  0.07296753 -0.20129395 -0.03469086 -0.05741882 -0.05383301\n",
      "  0.01553345 -0.02021027 -0.01504517 -0.0799942   0.0534668  -0.08825684]\n"
     ]
    }
   ],
   "source": [
    "import numpy as np\n",
    "import json \n",
    "\n",
    "from sklearn.neural_network import MLPClassifier\n",
    "from sklearn.model_selection import train_test_split\n",
    "from sklearn.preprocessing import StandardScaler\n",
    "\n",
    "from word2vec import *\n",
    "import math "
   ]
  },
  {
   "cell_type": "code",
   "execution_count": 20,
   "metadata": {},
   "outputs": [
    {
     "name": "stdout",
     "output_type": "stream",
     "text": [
      "<class 'dict'> {'video': {'title': 'How to fake a punch like movie stars', 'description': \"Punching in movies, explained by someone getting punched repeatedly.\\n\\nSubscribe and turn on notifications 🔔  so you don't miss any videos: http://goo.gl/0bsAjO \\n\\nMovie fight scenes at their...\", 'duration': '6:46', 'publish_date': '2023-05-29T12:00:06Z', 'thumbnails': {'url': 'https://i.ytimg.com/vi/7DlYBJzAo6k/maxresdefault.jpg', 'width': 1280, 'height': 720}, 'video_id': '7DlYBJzAo6k', 'view_count': 27501, 'tags': ['Vox.com', 'action films', 'action movies', 'atomic blonds', 'cgi', 'cinema', 'explain', 'explainer', 'fight scenes', 'movies', 'stunt doubles', 'vfx', 'visual effects', 'vox', 'fight scenes in movies', 'john wick', 'atomic blond', 'creed', 'bullet train', 'craft', 'choreography', 'fight choreography', 'fighting sequence', 'wade eastwood', 'second coordinator', 'second unit', 'stunt coordinator', 'on-screen', 'film'], 'category': '25', 'thumbnail_objects': [{'label': 'Accessories', 'confidence': 0.9999958038330078}, {'label': 'Glasses', 'confidence': 0.9999958038330078}, {'label': 'Photography', 'confidence': 0.999761962890625}, {'label': 'Head', 'confidence': 0.9958367156982422}, {'label': 'Person', 'confidence': 0.9958367156982422}, {'label': 'Face', 'confidence': 0.9948197937011719}, {'label': 'Adult', 'confidence': 0.982526626586914}, {'label': 'Female', 'confidence': 0.982526626586914}, {'label': 'Woman', 'confidence': 0.982526626586914}, {'label': 'Male', 'confidence': 0.9770738220214844}, {'label': 'Man', 'confidence': 0.9770738220214844}, {'label': 'Portrait', 'confidence': 0.9561564636230468}, {'label': 'People', 'confidence': 0.7464138793945313}]}, 'channel': {'channel_id': 'UCLXo7UDZvByw2ixzpQCufnA', 'channel_title': 'How to fake a punch like movie stars', 'subscriber_count': 11300000}}\n",
      "<class 'dict'> {'video': {'title': 'The two men who derailed Sudan’s revolution', 'description': \"Because of them, Sudan is at risk of falling into a civil war\\n\\nSubscribe and turn on notifications 🔔  so you don't miss any videos: http://goo.gl/0bsAjO \\n\\nOn December 19, 2018, protests...\", 'duration': '10:48', 'publish_date': '2023-05-26T12:00:39Z', 'thumbnails': {'url': 'https://i.ytimg.com/vi/lDfhxMwoyWo/maxresdefault.jpg', 'width': 1280, 'height': 720}, 'video_id': 'lDfhxMwoyWo', 'view_count': 391256, 'tags': ['Khartoum', 'South Sudan', 'Vox.com', 'civil war', 'explain', 'explainer', 'hemedti', 'hemeti', 'omar al-bashir', 'sudan', 'vox', 'sudan conflict', 'maps', 'politics', 'sudan war', 'sudan armed forces', 'SAF', 'NISS', 'burhan', 'sudanese armed forced', 'rapid support forces', 'paramilitary', 'coup', 'sudan coup', \"coup d'etat\", 'sudan coup 2021'], 'category': '25', 'thumbnail_objects': [{'label': 'Accessories', 'confidence': 0.9999935913085938}, {'label': 'Sunglasses', 'confidence': 0.9999935913085938}, {'label': 'Adult', 'confidence': 0.9928587341308593}, {'label': 'Male', 'confidence': 0.9928587341308593}, {'label': 'Man', 'confidence': 0.9928587341308593}, {'label': 'Person', 'confidence': 0.9928587341308593}, {'label': 'Face', 'confidence': 0.9813343048095703}, {'label': 'Head', 'confidence': 0.9813343048095703}, {'label': 'Photography', 'confidence': 0.9813343048095703}, {'label': 'Portrait', 'confidence': 0.9813343048095703}, {'label': 'Officer', 'confidence': 0.8637705230712891}, {'label': 'Military', 'confidence': 0.8236778259277344}, {'label': 'Military Uniform', 'confidence': 0.8236778259277344}, {'label': 'Soldier', 'confidence': 0.7392713165283203}]}, 'channel': {'channel_id': 'UCLXo7UDZvByw2ixzpQCufnA', 'channel_title': 'The two men who derailed Sudan’s revolution', 'subscriber_count': 11300000}}\n",
      "<class 'dict'> {'video': {'title': 'Why you’re probably not doing your “dream job”', 'description': \"What jobs do 15-year-olds expect to do at 30?\\n\\nSubscribe and turn on notifications 🔔  so you don't miss any videos: http://goo.gl/0bsAjO \\n\\nEvery few years, thousands of teenagers are asked...\", 'duration': '6:00', 'publish_date': '2023-05-17T12:00:27Z', 'thumbnails': {'url': 'https://i.ytimg.com/vi/eMjqJKviDBo/maxresdefault.jpg', 'width': 1280, 'height': 720}, 'video_id': 'eMjqJKviDBo', 'view_count': 491945, 'tags': ['Vox.com', 'childhood', 'childhood development', 'development', 'explain', 'explainer', 'jobs', 'occupation', 'vox', 'careers', 'career paths', 'job opportunities', 'adulthood', 'adulting', 'career development', 'choosing a career path', 'college', 'high school', 'going to college', 'choosing a college', 'choosing an occupation', 'occupations', 'career trajectory', 'job market', 'obselete jobs', 'automated jobs'], 'category': '25', 'thumbnail_objects': [{'label': 'People', 'confidence': 0.9998189544677735}, {'label': 'Person', 'confidence': 0.9998189544677735}, {'label': 'Head', 'confidence': 0.9985570526123047}, {'label': 'Clothing', 'confidence': 0.9984162139892578}, {'label': 'T-Shirt', 'confidence': 0.9984162139892578}, {'label': 'Face', 'confidence': 0.9979546356201172}, {'label': 'Adult', 'confidence': 0.9966033935546875}, {'label': 'Female', 'confidence': 0.9966033935546875}, {'label': 'Woman', 'confidence': 0.9966033935546875}, {'label': 'Baseball Cap', 'confidence': 0.9956794738769531}, {'label': 'Cap', 'confidence': 0.9956794738769531}, {'label': 'Hat', 'confidence': 0.9956794738769531}, {'label': 'Accessories', 'confidence': 0.9925404357910156}, {'label': 'Glasses', 'confidence': 0.9925404357910156}, {'label': 'Male', 'confidence': 0.9797560882568359}, {'label': 'Man', 'confidence': 0.9797560882568359}, {'label': 'Photography', 'confidence': 0.97820068359375}, {'label': 'Portrait', 'confidence': 0.97820068359375}, {'label': 'Happy', 'confidence': 0.7765508270263672}, {'label': 'Crowd', 'confidence': 0.7422186279296875}]}, 'channel': {'channel_id': 'UCLXo7UDZvByw2ixzpQCufnA', 'channel_title': 'Why you’re probably not doing your “dream job”', 'subscriber_count': 11300000}}\n",
      "<class 'dict'> {'video': {'title': 'The Fastest Maze-Solving Competition On Earth', 'description': 'Welcome to Micromouse, the fastest maze-solving competition on Earth. Join Onshape’s community of over 3 million CAD users by creating a free account here: https://Onshape.pro/Veritasium....', 'duration': '25:22', 'publish_date': '2023-05-24T17:39:57Z', 'thumbnails': {'url': 'https://i.ytimg.com/vi/ZMQbHMgK2rw/maxresdefault.jpg', 'width': 1280, 'height': 720}, 'video_id': 'ZMQbHMgK2rw', 'view_count': 4751545, 'tags': ['veritasium', 'science', 'physics'], 'category': '27', 'thumbnail_objects': [{'label': 'Person', 'confidence': 0.9825626373291015}, {'label': 'Adult', 'confidence': 0.9539141082763671}, {'label': 'Male', 'confidence': 0.9539141082763671}, {'label': 'Man', 'confidence': 0.9539141082763671}, {'label': 'Head', 'confidence': 0.8872122955322266}, {'label': 'Face', 'confidence': 0.867490005493164}]}, 'channel': {'channel_id': 'UCHnyfMqiRRG1u-2MsSQLbXA', 'channel_title': 'The Fastest Maze-Solving Competition On Earth', 'subscriber_count': 13700000}}\n",
      "<class 'dict'> {'video': {'title': 'Why Lightbulbs Might Be The Best Invention Ever', 'description': 'Lightbulbs might be the best idea ever – just not for light. Head to https://brilliant.org/veritasium to start your free 30-day trial, and the first 200 people get 20% off an annual premium...', 'duration': '18:56', 'publish_date': '2023-05-13T14:06:52Z', 'thumbnails': {'url': 'https://i.ytimg.com/vi/FU_YFpfDqqA/maxresdefault.jpg', 'width': 1280, 'height': 720}, 'video_id': 'FU_YFpfDqqA', 'view_count': 2806318, 'tags': ['veritasium', 'science', 'physics'], 'category': '27', 'thumbnail_objects': [{'label': 'Light', 'confidence': 1.0}, {'label': 'Lightbulb', 'confidence': 0.9887686157226563}]}, 'channel': {'channel_id': 'UCHnyfMqiRRG1u-2MsSQLbXA', 'channel_title': 'Why Lightbulbs Might Be The Best Invention Ever', 'subscriber_count': 13700000}}\n",
      "<class 'dict'> {'video': {'title': 'Your Body Killed Cancer 5 Minutes Ago', 'description': 'Sources & further reading: https://sites.google.com/view/sources-cancervsimmune/\\nThis video was partially financed by Gates Ventures. \\nIf you want to support this channel and get something...', 'duration': '9:14', 'publish_date': '2023-05-09T14:00:42Z', 'thumbnails': {'url': 'https://i.ytimg.com/vi/zFhYJRqz_xk/maxresdefault.jpg', 'width': 1280, 'height': 720}, 'video_id': 'zFhYJRqz_xk', 'view_count': 4698717, 'tags': None, 'category': '27', 'thumbnail_objects': [{'label': 'Art', 'confidence': 0.9999349212646484}, {'label': 'Graphics', 'confidence': 0.9999349212646484}]}, 'channel': {'channel_id': 'UCsXVk37bltHxD1rDPwtNM8Q', 'channel_title': 'Your Body Killed Cancer 5 Minutes Ago', 'subscriber_count': 20600000}}\n",
      "<class 'dict'> {'video': {'title': 'Can you outsmart Fate and break her ancient curse? - Dan Finkel', 'description': 'Practice more problem-solving at https://brilliant.org/TedEd\\n\\n--\\n\\nHundreds of years ago, your ancestor stole a magical tarot deck from Fate herself— and it came with a terrible cost. Once...', 'duration': '5:24', 'publish_date': '2023-05-25T15:00:18Z', 'thumbnails': {'url': 'https://i.ytimg.com/vi/UIeT1zxsus0/maxresdefault.jpg', 'width': 1280, 'height': 720}, 'video_id': 'UIeT1zxsus0', 'view_count': 219021, 'tags': ['tarot cards', 'tarot deck', 'Fate', 'ancient curse', 'curse', 'family curse', 'magical tarot deck', 'fortune tellers', 'duel', 'Arcana', 'tarot arcana', 'major arcana', 'math', 'mathematics', 'prime number', 'factor', 'integer', 'algebra', 'riddles', 'riddle', 'teded riddles', 'problem solving', 'mathematical riddles', 'critical thinking', 'education', 'animation', 'Dan Finkel', 'Igor Coric', 'Artrake Studio', 'Math for Love', 'TED', 'TED-Ed', 'TED Ed', 'Teded', 'Ted Education'], 'category': '27', 'thumbnail_objects': [{'label': 'Machine', 'confidence': 0.9483567810058594}, {'label': 'Spoke', 'confidence': 0.9483567810058594}, {'label': 'Logo', 'confidence': 0.9443482971191406}, {'label': 'Text', 'confidence': 0.7538150787353516}, {'label': 'Person', 'confidence': 0.7355780029296874}]}, 'channel': {'channel_id': 'UCsooa4yRKGN_zEE8iknghZA', 'channel_title': 'Can you outsmart Fate and break her ancient curse? - Dan Finkel', 'subscriber_count': 18600000}}\n",
      "<class 'dict'> {'video': {'title': \"4 epidemics that almost happened (but didn't) - George Zaidan\", 'description': 'What makes for an effective outbreak response? Explore successful systems from around the world that prevented epidemics.\\n\\n--\\n\\nIn 2013, an Ebola outbreak began in Guinea. The country had no...', 'duration': '6:26', 'publish_date': '2023-05-23T15:00:45Z', 'thumbnails': {'url': 'https://i.ytimg.com/vi/wefiAkgs09M/maxresdefault.jpg', 'width': 1280, 'height': 720}, 'video_id': 'wefiAkgs09M', 'view_count': 230897, 'tags': ['epidemics', 'epidemic prevention', 'epidemic preparation', 'epidemic preparedness', 'virus', 'disease', 'outbreak', 'ebola', 'ebola outbreak', 'disease outbreak', 'ebola epidemic', 'cholera', 'guinea', 'epidemic response', 'emergency response system', 'test and trace', 'contact tracing', 'rapid test', 'vaccines', 'vaccination', 'epidemic response system', 'health', 'public health', 'yellow fever', 'healthcare', 'healthcare workers', 'education', 'animation', 'George Zaidan', 'Gavin Edwards', 'Movult', 'TED', 'TED-Ed', 'TED Ed', 'Teded', 'Ted Education'], 'category': '27', 'thumbnail_objects': [{'label': 'Logo', 'confidence': 0.9168621063232422}]}, 'channel': {'channel_id': 'UCsooa4yRKGN_zEE8iknghZA', 'channel_title': \"4 epidemics that almost happened (but didn't) - George Zaidan\", 'subscriber_count': 18600000}}\n",
      "<class 'dict'> {'video': {'title': 'Is it normal to talk to yourself?', 'description': 'Dig into the psychological benefits of positive self-talk, and find out when it can become problematic.\\n\\n--\\n\\nBeing caught talking to yourself can feel embarrassing, and some people even stigmatize...', 'duration': '5:19', 'publish_date': '2023-05-18T15:00:55Z', 'thumbnails': {'url': 'https://i.ytimg.com/vi/iNyUmbmQQZg/maxresdefault.jpg', 'width': 1280, 'height': 720}, 'video_id': 'iNyUmbmQQZg', 'view_count': 1071868, 'tags': ['self talk', 'talking to yourself', 'inner speech', 'inner voice', 'internal monologue', 'conscious thought', 'beliefs', 'reflections', 'psychology', 'development', 'child development', 'emotions', 'emotional development', 'Lev Vygotsky', 'distanced self talk', 'focus', 'confidence', 'self esteem', 'motivation', 'negative self talk', 'anxiety', 'depression', 'CBT', 'cognitive behavioral therapy', 'mental health', 'education', 'animation', 'Shannon Odell', 'Avi Ofer', 'TED', 'TED-Ed', 'TED Ed', 'Teded', 'Ted Education'], 'category': '27', 'thumbnail_objects': [{'label': 'Text', 'confidence': 0.9437668609619141}, {'label': 'Animal', 'confidence': 0.9430622100830078}, {'label': 'Bird', 'confidence': 0.9430622100830078}, {'label': 'Penguin', 'confidence': 0.9430622100830078}, {'label': 'Adult', 'confidence': 0.8439901733398437}, {'label': 'Female', 'confidence': 0.8439901733398437}, {'label': 'Person', 'confidence': 0.8439901733398437}, {'label': 'Woman', 'confidence': 0.8439901733398437}, {'label': 'Book', 'confidence': 0.7551553344726563}, {'label': 'Publication', 'confidence': 0.7551553344726563}]}, 'channel': {'channel_id': 'UCsooa4yRKGN_zEE8iknghZA', 'channel_title': 'Is it normal to talk to yourself?', 'subscriber_count': 18600000}}\n",
      "<class 'dict'> {'video': {'title': \"The Premier League's Best Ever Final Day\", 'description': 'Try The Athletic for FREE for 30 days: https://theathletic.com/tifofootball\\n📗 Tifo\\'s new book, \"How to Watch Football\" is now available internationally: https://linktr.ee/tifobook\\n\\nSergio...', 'duration': '6:18', 'publish_date': '2023-05-29T06:00:15Z', 'thumbnails': {'url': 'https://i.ytimg.com/vi/t55JZrw_AZI/maxresdefault.jpg', 'width': 1280, 'height': 720}, 'video_id': 't55JZrw_AZI', 'view_count': 80381, 'tags': ['tifo football', 'tifo football youtube', 'youtube tifo football', 'tifofootball', 'tifofootball youtube', 'Premier league', 'epl', 'final days', 'last day of the season', 'agureo', 'Aguero', 'aguerooooo', 'man city title win', 'mancini man city', 'west brom 2005', 'kieran richardson west brom', 'bryan robson', 'sir alex ferguson', 'blackburn title win', 'premier league 2005', 'alan shearer', 'chris sutton', 'blackburn rovers'], 'category': '17', 'thumbnail_objects': [{'label': 'Book', 'confidence': 0.9997820281982421}, {'label': 'Comics', 'confidence': 0.9997820281982421}, {'label': 'Publication', 'confidence': 0.9997820281982421}, {'label': 'Adult', 'confidence': 0.9930110931396484}, {'label': 'Male', 'confidence': 0.9930110931396484}, {'label': 'Man', 'confidence': 0.9930110931396484}, {'label': 'Person', 'confidence': 0.9930110931396484}, {'label': 'Face', 'confidence': 0.9704353332519531}, {'label': 'Head', 'confidence': 0.9704353332519531}, {'label': 'Accessories', 'confidence': 0.9040771484375}, {'label': 'Glasses', 'confidence': 0.9040771484375}, {'label': 'Anime', 'confidence': 0.8339689636230468}]}, 'channel': {'channel_id': 'UCGYYNGmyhZ_kwBF_lqqXdAQ', 'channel_title': \"The Premier League's Best Ever Final Day\", 'subscriber_count': 1330000}}\n",
      "<class 'dict'> {'video': {'title': 'The harsh reality of Premier League relegation', 'description': 'Try The Athletic for FREE for 30 days: https://theathletic.com/tifofootball\\n📗 Tifo\\'s new book, \"How to Watch Football\" is now available internationally: https://linktr.ee/tifobook\\n\\nRelegation,...', 'duration': '6:15', 'publish_date': '2023-05-26T06:00:12Z', 'thumbnails': {'url': 'https://i.ytimg.com/vi/bVRsifVX7Zs/maxresdefault.jpg', 'width': 1280, 'height': 720}, 'video_id': 'bVRsifVX7Zs', 'view_count': 622872, 'tags': ['tifo football', 'tifo football youtube', 'youtube tifo football', 'tifofootball', 'tifofootball youtube', 'Premier league', 'epl', 'relagtion', 'relegated', 'relegated sides', 'championship', 'efl', 'leicester city', 'leeds united', 'southampton', 'everton', 'revenue', 'cost of relegation', 'football finance'], 'category': '17', 'thumbnail_objects': [{'label': 'Head', 'confidence': 0.9999334716796875}, {'label': 'Person', 'confidence': 0.9999334716796875}, {'label': 'Face', 'confidence': 0.9998947143554687}, {'label': 'Adult', 'confidence': 0.9930471801757812}, {'label': 'Male', 'confidence': 0.9930471801757812}, {'label': 'Man', 'confidence': 0.9930471801757812}, {'label': 'Clothing', 'confidence': 0.855201644897461}, {'label': 'Glove', 'confidence': 0.855201644897461}, {'label': 'Body Part', 'confidence': 0.7487844085693359}, {'label': 'Neck', 'confidence': 0.7487844085693359}]}, 'channel': {'channel_id': 'UCGYYNGmyhZ_kwBF_lqqXdAQ', 'channel_title': 'The harsh reality of Premier League relegation', 'subscriber_count': 1330000}}\n",
      "<class 'dict'> {'video': {'title': 'Why do women suffer more ACL injuries than men?', 'description': 'Try The Athletic for FREE for 30 days: https://theathletic.com/tifofootball\\n📗 Tifo\\'s new book, \"How to Watch Football\" is now available internationally: https://linktr.ee/tifobook\\n\\nWomen’s...', 'duration': '6:45', 'publish_date': '2023-05-24T06:00:16Z', 'thumbnails': {'url': 'https://i.ytimg.com/vi/qwRW7S0F348/maxresdefault.jpg', 'width': 1280, 'height': 720}, 'video_id': 'qwRW7S0F348', 'view_count': 112816, 'tags': ['tifo football', 'tifo football youtube', 'youtube tifo football', 'tifofootball', 'tifofootball youtube', 'Acl', 'acl injury', 'aclcrew', 'knee injury', 'anterior cruciate ligament', 'ligament', 'cruciate ligament', 'injuries', 'injury', 'football injuries', 'science of the knee', 'bad injuries in football', 'wsl', 'womens football', 'woman football', 'super league', 'beth mead', 'miedema', 'williamson', 'putellas'], 'category': '17', 'thumbnail_objects': [{'label': 'Person', 'confidence': 0.9116852569580078}, {'label': 'Book', 'confidence': 0.7771152496337891}, {'label': 'Comics', 'confidence': 0.7771152496337891}, {'label': 'Publication', 'confidence': 0.7771152496337891}, {'label': 'Face', 'confidence': 0.7185871887207032}, {'label': 'Head', 'confidence': 0.7185871887207032}]}, 'channel': {'channel_id': 'UCGYYNGmyhZ_kwBF_lqqXdAQ', 'channel_title': 'Why do women suffer more ACL injuries than men?', 'subscriber_count': 1330000}}\n",
      "<class 'dict'> {'video': {'title': 'The Footballer Who Was Cancelled', 'description': 'Try The Athletic for FREE for 30 days: https://theathletic.com/tifofootball\\n📗 Tifo\\'s new book, \"How to Watch Football\" is now available internationally: https://linktr.ee/tifobook\\n\\nHakan...', 'duration': '7:39', 'publish_date': '2023-05-22T11:54:12Z', 'thumbnails': {'url': 'https://i.ytimg.com/vi/dh2j_c6QPbE/maxresdefault.jpg', 'width': 1280, 'height': 720}, 'video_id': 'dh2j_c6QPbE', 'view_count': 333884, 'tags': ['tifo football', 'tifo football youtube', 'youtube tifo football', 'tifofootball', 'tifofootball youtube', 'Hakan sukur', 'sukur', 'sukor', 'world cup', 'fastest goal', 'records', 'Erdogan', 'turkey religion', 'what religion in turkey', 'Turkish Süper Lig', 'turkish football', 'Erdoğan', 'Recep Tayyip Erdoğan', 'President of Turkey', 'galatasaray', 'Fatih Terim Stadium', 'turkey', 'Fetullah Gülen', 'Şükür', 'gulen', 'fastest goal in world cup'], 'category': '17', 'thumbnail_objects': [{'label': 'Art', 'confidence': 0.9984044647216797}, {'label': 'Modern Art', 'confidence': 0.9984044647216797}, {'label': 'Person', 'confidence': 0.9200751495361328}, {'label': 'Head', 'confidence': 0.8297483062744141}, {'label': 'Face', 'confidence': 0.8217059326171875}, {'label': 'Animal', 'confidence': 0.7431268310546875}, {'label': 'Bird', 'confidence': 0.7431268310546875}]}, 'channel': {'channel_id': 'UCGYYNGmyhZ_kwBF_lqqXdAQ', 'channel_title': 'The Footballer Who Was Cancelled', 'subscriber_count': 1330000}}\n",
      "<class 'dict'> {'video': {'title': 'The team that threatened to quit their league', 'description': 'Try The Athletic for FREE for 30 days: https://theathletic.com/tifofootball\\n📗 Tifo\\'s new book, \"How to Watch Football\" is now available internationally: https://linktr.ee/tifobook\\n\\nOlympiacos...', 'duration': '7:51', 'publish_date': '2023-05-19T06:00:06Z', 'thumbnails': {'url': 'https://i.ytimg.com/vi/IA-5qPhCKuM/maxresdefault.jpg', 'width': 1280, 'height': 720}, 'video_id': 'IA-5qPhCKuM', 'view_count': 212829, 'tags': ['tifo football', 'tifo football youtube', 'youtube tifo football', 'tifofootball', 'tifofootball youtube', 'Olympiacos', 'olympiakos', 'Marinakis', 'nottingham forest', 'forest owner', 'olympiacos owner', 'greek football', 'greece', 'Olympiacos Club of Fans of Piraeus', 'super league', 'james rodriguez', 'marcelo', 'vrsajlko', 'Piraeus'], 'category': '17', 'thumbnail_objects': [{'label': 'Adult', 'confidence': 0.9949050903320312}, {'label': 'Male', 'confidence': 0.9949050903320312}, {'label': 'Man', 'confidence': 0.9949050903320312}, {'label': 'Person', 'confidence': 0.9949050903320312}, {'label': 'Face', 'confidence': 0.95645263671875}, {'label': 'Head', 'confidence': 0.95645263671875}, {'label': 'Beard', 'confidence': 0.942552719116211}, {'label': 'Publication', 'confidence': 0.9308454132080078}, {'label': 'Book', 'confidence': 0.9281767272949218}, {'label': 'Comics', 'confidence': 0.9281767272949218}, {'label': 'Art', 'confidence': 0.9234127807617187}]}, 'channel': {'channel_id': 'UCGYYNGmyhZ_kwBF_lqqXdAQ', 'channel_title': 'The team that threatened to quit their league', 'subscriber_count': 1330000}}\n",
      "<class 'dict'> {'video': {'title': 'The Wilfried Zaha Conundrum', 'description': 'Try The Athletic for FREE for 30 days: https://theathletic.com/tifofootball\\n📗 Tifo\\'s new book, \"How to Watch Football\" is now available internationally: https://linktr.ee/tifobook\\n\\nWilfried...', 'duration': '5:45', 'publish_date': '2023-05-17T06:00:21Z', 'thumbnails': {'url': 'https://i.ytimg.com/vi/zb6r0QxXJIo/maxresdefault.jpg', 'width': 1280, 'height': 720}, 'video_id': 'zb6r0QxXJIo', 'view_count': 278866, 'tags': ['tifo football', 'tifo football youtube', 'youtube tifo football', 'tifofootball', 'tifofootball youtube', 'CPFC', 'Crystal Palace', 'EPL', 'premier league', 'palace', 'eagles', 'roy hodgson', 'patrick vieira', 'simon jordan', 'dougie freedman', 'selhurst park', 'crystal palace football', 'Football League', 'football', 'Wan-Bissaka', 'Eberechi Eze', 'Michael Olise', 'Wilfried Zaha'], 'category': '17', 'thumbnail_objects': [{'label': 'Body Part', 'confidence': 0.9995976257324218}, {'label': 'Face', 'confidence': 0.9995976257324218}, {'label': 'Head', 'confidence': 0.9995976257324218}, {'label': 'Neck', 'confidence': 0.9995976257324218}, {'label': 'Person', 'confidence': 0.9995976257324218}, {'label': 'Adult', 'confidence': 0.9945635223388671}, {'label': 'Male', 'confidence': 0.9945635223388671}, {'label': 'Man', 'confidence': 0.9945635223388671}, {'label': 'Art', 'confidence': 0.718019790649414}]}, 'channel': {'channel_id': 'UCGYYNGmyhZ_kwBF_lqqXdAQ', 'channel_title': 'The Wilfried Zaha Conundrum', 'subscriber_count': 1330000}}\n"
     ]
    }
   ],
   "source": [
    "no_of_bins = 20\n",
    "\n",
    "videos = {}\n",
    "with open('videos.json', 'r') as f: \n",
    "    videos = json.load(f)\n",
    "\n",
    "x = []\n",
    "y = []\n",
    "\n",
    "for video in videos.values():\n",
    "    print(type(video), video)\n",
    "\n",
    "    description = video[\"video\"][\"description\"].split() or []\n",
    "    tags = video[\"video\"].get('tags', []) or []\n",
    "    labels = [inner[\"label\"] for inner in video[\"video\"][\"thumbnail_objects\"]] or []\n",
    "\n",
    "    words = description + tags + labels\n",
    "    x.append(get_vector(words))\n",
    "\n",
    "    view = video['video']['view_count']\n",
    "    sub_count = video['channel']['subscriber_count']\n",
    "\n",
    "    y.append(int(math.tanh(math.log(view) / math.log(sub_count)) * no_of_bins))\n"
   ]
  },
  {
   "cell_type": "code",
   "execution_count": 21,
   "metadata": {},
   "outputs": [],
   "source": [
    "# Assuming you have your features in X and labels in y\n",
    "X_train, X_test, y_train, y_test = train_test_split(x, y, test_size=0.2, random_state=42)\n",
    "\n",
    "# Scale the input data\n",
    "scaler = StandardScaler()\n",
    "X_train_scaled = scaler.fit_transform(X_train)\n",
    "X_test_scaled = scaler.transform(X_test)"
   ]
  },
  {
   "cell_type": "code",
   "execution_count": 22,
   "metadata": {},
   "outputs": [],
   "source": [
    "mlp = MLPClassifier(hidden_layer_sizes=(100, 50), activation='relu', solver='adam', max_iter=500)"
   ]
  },
  {
   "cell_type": "code",
   "execution_count": 23,
   "metadata": {},
   "outputs": [
    {
     "name": "stdout",
     "output_type": "stream",
     "text": [
      "[14, 14, 13, 13, 13, 14, 14, 12, 14, 14, 14, 12]\n"
     ]
    }
   ],
   "source": [
    "print(y_train)"
   ]
  },
  {
   "cell_type": "code",
   "execution_count": 24,
   "metadata": {},
   "outputs": [
    {
     "name": "stdout",
     "output_type": "stream",
     "text": [
      "0.0\n"
     ]
    }
   ],
   "source": [
    "mlp.fit(X_train_scaled, y_train)\n",
    "\n",
    "accuracy = mlp.score(X_test_scaled, y_test)\n",
    "\n",
    "print(accuracy)"
   ]
  },
  {
   "cell_type": "code",
   "execution_count": null,
   "metadata": {},
   "outputs": [],
   "source": []
  }
 ],
 "metadata": {
  "kernelspec": {
   "display_name": "base",
   "language": "python",
   "name": "python3"
  },
  "language_info": {
   "codemirror_mode": {
    "name": "ipython",
    "version": 3
   },
   "file_extension": ".py",
   "mimetype": "text/x-python",
   "name": "python",
   "nbconvert_exporter": "python",
   "pygments_lexer": "ipython3",
   "version": "3.9.13"
  },
  "orig_nbformat": 4
 },
 "nbformat": 4,
 "nbformat_minor": 2
}
